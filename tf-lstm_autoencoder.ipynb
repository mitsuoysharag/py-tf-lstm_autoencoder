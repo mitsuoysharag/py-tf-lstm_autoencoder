{
  "nbformat": 4,
  "nbformat_minor": 0,
  "metadata": {
    "colab": {
      "name": "LSTM Autoencoder.ipynb",
      "version": "0.3.2",
      "provenance": [],
      "collapsed_sections": []
    },
    "kernelspec": {
      "name": "python3",
      "display_name": "Python 3"
    }
  },
  "cells": [
    {
      "cell_type": "markdown",
      "metadata": {
        "id": "L-Ck0fX5LtLH",
        "colab_type": "text"
      },
      "source": [
        "# Reconstruction LSTM Autoencoder"
      ]
    },
    {
      "cell_type": "code",
      "metadata": {
        "id": "QukTbvOf94fx",
        "colab_type": "code",
        "colab": {}
      },
      "source": [
        "import numpy as np\n",
        "import tensorflow as tf"
      ],
      "execution_count": 0,
      "outputs": []
    },
    {
      "cell_type": "code",
      "metadata": {
        "id": "2DCrx27J9nZm",
        "colab_type": "code",
        "outputId": "f9b63e78-4283-4684-fe4e-a525039f315b",
        "colab": {
          "base_uri": "https://localhost:8080/",
          "height": 170
        }
      },
      "source": [
        "sequence = np.array([0.1, 0.2, 0.3, 0.4, 0.5, 0.6, 0.7, 0.8, 0.9])\n",
        "n_in = len(sequence)\n",
        "sequence = sequence.reshape((1, n_in, 1))\n",
        "sequence"
      ],
      "execution_count": 0,
      "outputs": [
        {
          "output_type": "execute_result",
          "data": {
            "text/plain": [
              "array([[[0.1],\n",
              "        [0.2],\n",
              "        [0.3],\n",
              "        [0.4],\n",
              "        [0.5],\n",
              "        [0.6],\n",
              "        [0.7],\n",
              "        [0.8],\n",
              "        [0.9]]])"
            ]
          },
          "metadata": {
            "tags": []
          },
          "execution_count": 2
        }
      ]
    },
    {
      "cell_type": "code",
      "metadata": {
        "id": "zsVN54Mr9_QR",
        "colab_type": "code",
        "outputId": "6457b49c-bf85-42d0-a1d3-26e1e46e5936",
        "colab": {
          "base_uri": "https://localhost:8080/",
          "height": 119
        }
      },
      "source": [
        "model = tf.keras.Sequential()\n",
        "model.add(tf.keras.layers.LSTM(100, activation='relu', input_shape=(n_in,1)))\n",
        "model.add(tf.keras.layers.RepeatVector(n_in))\n",
        "model.add(tf.keras.layers.LSTM(100, activation='relu', return_sequences=True))\n",
        "model.add(tf.keras.layers.TimeDistributed(tf.keras.layers.Dense(1)))\n",
        "model.compile(optimizer='adam', loss='mse')"
      ],
      "execution_count": 0,
      "outputs": [
        {
          "output_type": "stream",
          "text": [
            "WARNING:tensorflow:From /usr/local/lib/python3.6/dist-packages/tensorflow/python/ops/resource_variable_ops.py:435: colocate_with (from tensorflow.python.framework.ops) is deprecated and will be removed in a future version.\n",
            "Instructions for updating:\n",
            "Colocations handled automatically by placer.\n",
            "WARNING:tensorflow:From /usr/local/lib/python3.6/dist-packages/tensorflow/python/keras/utils/losses_utils.py:170: to_float (from tensorflow.python.ops.math_ops) is deprecated and will be removed in a future version.\n",
            "Instructions for updating:\n",
            "Use tf.cast instead.\n"
          ],
          "name": "stdout"
        }
      ]
    },
    {
      "cell_type": "code",
      "metadata": {
        "id": "m-INbE5pF1M-",
        "colab_type": "code",
        "outputId": "8e928919-560b-4dd6-86b5-7b9862ac1746",
        "colab": {
          "base_uri": "https://localhost:8080/",
          "height": 272
        }
      },
      "source": [
        "model.summary()"
      ],
      "execution_count": 0,
      "outputs": [
        {
          "output_type": "stream",
          "text": [
            "_________________________________________________________________\n",
            "Layer (type)                 Output Shape              Param #   \n",
            "=================================================================\n",
            "lstm (LSTM)                  (None, 100)               40800     \n",
            "_________________________________________________________________\n",
            "repeat_vector (RepeatVector) (None, 9, 100)            0         \n",
            "_________________________________________________________________\n",
            "lstm_1 (LSTM)                (None, 9, 100)            80400     \n",
            "_________________________________________________________________\n",
            "time_distributed (TimeDistri (None, 9, 1)              101       \n",
            "=================================================================\n",
            "Total params: 121,301\n",
            "Trainable params: 121,301\n",
            "Non-trainable params: 0\n",
            "_________________________________________________________________\n"
          ],
          "name": "stdout"
        }
      ]
    },
    {
      "cell_type": "code",
      "metadata": {
        "id": "loeRykRmJjK1",
        "colab_type": "code",
        "outputId": "d129d1c1-45fb-43ab-9406-90230cce24b3",
        "colab": {
          "base_uri": "https://localhost:8080/",
          "height": 85
        }
      },
      "source": [
        "model.fit(sequence, sequence, epochs=300, verbose=0)"
      ],
      "execution_count": 0,
      "outputs": [
        {
          "output_type": "stream",
          "text": [
            "WARNING:tensorflow:From /usr/local/lib/python3.6/dist-packages/tensorflow/python/ops/math_ops.py:3066: to_int32 (from tensorflow.python.ops.math_ops) is deprecated and will be removed in a future version.\n",
            "Instructions for updating:\n",
            "Use tf.cast instead.\n"
          ],
          "name": "stdout"
        },
        {
          "output_type": "execute_result",
          "data": {
            "text/plain": [
              "<tensorflow.python.keras.callbacks.History at 0x7f48992a1470>"
            ]
          },
          "metadata": {
            "tags": []
          },
          "execution_count": 5
        }
      ]
    },
    {
      "cell_type": "code",
      "metadata": {
        "id": "wfAWbRnHJlcN",
        "colab_type": "code",
        "outputId": "20e9051a-25ce-4539-9ada-5b24b566e467",
        "colab": {
          "base_uri": "https://localhost:8080/",
          "height": 51
        }
      },
      "source": [
        "yhat = model.predict(sequence, verbose=0)\n",
        "print(yhat[0,:,0])"
      ],
      "execution_count": 0,
      "outputs": [
        {
          "output_type": "stream",
          "text": [
            "[0.10409105 0.19927198 0.29849002 0.3992389  0.5003058  0.600636\n",
            " 0.70036143 0.7998768  0.89978105]\n"
          ],
          "name": "stdout"
        }
      ]
    },
    {
      "cell_type": "markdown",
      "metadata": {
        "id": "GPVW-WiJLov4",
        "colab_type": "text"
      },
      "source": [
        "# Prediction LSTM Autoencoder"
      ]
    },
    {
      "cell_type": "code",
      "metadata": {
        "id": "WKs07HvDMkNG",
        "colab_type": "code",
        "outputId": "a2d36cdd-cd68-4278-9e6b-defbbbbb4d6c",
        "colab": {
          "base_uri": "https://localhost:8080/",
          "height": 289
        }
      },
      "source": [
        "seq_in = np.array([0.1, 0.2, 0.3, 0.4, 0.5, 0.6, 0.7, 0.8, 0.9])\n",
        "n_in = len(seq_in)\n",
        "seq_in = seq_in.reshape((1, n_in, 1))\n",
        "seq_out = seq_in[:, 1:, :]\n",
        "n_out = n_in - 1\n",
        "\n",
        "seq_in, seq_out, n_in, n_out"
      ],
      "execution_count": 0,
      "outputs": [
        {
          "output_type": "execute_result",
          "data": {
            "text/plain": [
              "(array([[[0.1],\n",
              "         [0.2],\n",
              "         [0.3],\n",
              "         [0.4],\n",
              "         [0.5],\n",
              "         [0.6],\n",
              "         [0.7],\n",
              "         [0.8],\n",
              "         [0.9]]]), array([[[0.2],\n",
              "         [0.3],\n",
              "         [0.4],\n",
              "         [0.5],\n",
              "         [0.6],\n",
              "         [0.7],\n",
              "         [0.8],\n",
              "         [0.9]]]), 9, 8)"
            ]
          },
          "metadata": {
            "tags": []
          },
          "execution_count": 7
        }
      ]
    },
    {
      "cell_type": "code",
      "metadata": {
        "id": "R8eN5fgOMsIp",
        "colab_type": "code",
        "outputId": "70ffa527-1dfe-43ce-e576-fec6958caf9c",
        "colab": {
          "base_uri": "https://localhost:8080/",
          "height": 272
        }
      },
      "source": [
        "model = tf.keras.Sequential()\n",
        "model.add(tf.keras.layers.LSTM(100, activation='relu', input_shape=(n_in,1)))\n",
        "model.add(tf.keras.layers.RepeatVector(n_out))\n",
        "model.add(tf.keras.layers.LSTM(100, activation='relu', return_sequences=True))\n",
        "model.add(tf.keras.layers.TimeDistributed(tf.keras.layers.Dense(1)))\n",
        "model.compile(optimizer='adam', loss='mse')\n",
        "\n",
        "model.summary()"
      ],
      "execution_count": 0,
      "outputs": [
        {
          "output_type": "stream",
          "text": [
            "_________________________________________________________________\n",
            "Layer (type)                 Output Shape              Param #   \n",
            "=================================================================\n",
            "lstm_2 (LSTM)                (None, 100)               40800     \n",
            "_________________________________________________________________\n",
            "repeat_vector_1 (RepeatVecto (None, 8, 100)            0         \n",
            "_________________________________________________________________\n",
            "lstm_3 (LSTM)                (None, 8, 100)            80400     \n",
            "_________________________________________________________________\n",
            "time_distributed_1 (TimeDist (None, 8, 1)              101       \n",
            "=================================================================\n",
            "Total params: 121,301\n",
            "Trainable params: 121,301\n",
            "Non-trainable params: 0\n",
            "_________________________________________________________________\n"
          ],
          "name": "stdout"
        }
      ]
    },
    {
      "cell_type": "code",
      "metadata": {
        "id": "P_pNJPYuM1qZ",
        "colab_type": "code",
        "outputId": "294b1d35-d4ad-41a4-f53b-277b4c684682",
        "colab": {
          "base_uri": "https://localhost:8080/",
          "height": 34
        }
      },
      "source": [
        "model.fit(seq_in, seq_out, epochs=300, verbose=0)"
      ],
      "execution_count": 0,
      "outputs": [
        {
          "output_type": "execute_result",
          "data": {
            "text/plain": [
              "<tensorflow.python.keras.callbacks.History at 0x7f489294ae48>"
            ]
          },
          "metadata": {
            "tags": []
          },
          "execution_count": 9
        }
      ]
    },
    {
      "cell_type": "code",
      "metadata": {
        "id": "XtY3mDrYNSO7",
        "colab_type": "code",
        "outputId": "944a91a3-e2f1-4cf5-9e18-c5c51f49d9df",
        "colab": {
          "base_uri": "https://localhost:8080/",
          "height": 51
        }
      },
      "source": [
        "yhat = model.predict(seq_in, verbose=0)\n",
        "print(yhat[0,:,0])"
      ],
      "execution_count": 0,
      "outputs": [
        {
          "output_type": "stream",
          "text": [
            "[0.1712514  0.29645413 0.40667373 0.5062596  0.6021977  0.6981303\n",
            " 0.79696673 0.9016302 ]\n"
          ],
          "name": "stdout"
        }
      ]
    }
  ]
}